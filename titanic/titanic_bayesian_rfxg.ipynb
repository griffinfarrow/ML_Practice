{
 "cells": [
  {
   "cell_type": "code",
   "execution_count": 108,
   "metadata": {},
   "outputs": [],
   "source": [
    "import numpy as np\n",
    "import pandas as pd\n",
    "import matplotlib.pyplot as plt\n",
    "from sklearn.model_selection import train_test_split\n",
    "from sklearn.preprocessing import OneHotEncoder\n",
    "from sklearn.ensemble import RandomForestClassifier\n",
    "\n",
    "%matplotlib inline\n",
    "pd.set_option(\"display.precision\", 2)"
   ]
  },
  {
   "cell_type": "markdown",
   "metadata": {},
   "source": [
    "This notebook tries to solve the Titanic problem using Bayesian optimisation to do hyperparameter tuning"
   ]
  },
  {
   "cell_type": "markdown",
   "metadata": {},
   "source": [
    "## 1) Preprocessing the data\n",
    "\n",
    "First of all, we need to get the data into a format that we can actually use for models \\\n",
    "Therefore, we remove missing values and redundant columns etc"
   ]
  },
  {
   "cell_type": "code",
   "execution_count": 109,
   "metadata": {},
   "outputs": [],
   "source": [
    "data = pd.read_csv(\"../Data/Titanic/train.csv\")"
   ]
  },
  {
   "cell_type": "code",
   "execution_count": 110,
   "metadata": {},
   "outputs": [
    {
     "data": {
      "text/html": [
       "<div>\n",
       "<style scoped>\n",
       "    .dataframe tbody tr th:only-of-type {\n",
       "        vertical-align: middle;\n",
       "    }\n",
       "\n",
       "    .dataframe tbody tr th {\n",
       "        vertical-align: top;\n",
       "    }\n",
       "\n",
       "    .dataframe thead th {\n",
       "        text-align: right;\n",
       "    }\n",
       "</style>\n",
       "<table border=\"1\" class=\"dataframe\">\n",
       "  <thead>\n",
       "    <tr style=\"text-align: right;\">\n",
       "      <th></th>\n",
       "      <th>PassengerId</th>\n",
       "      <th>Survived</th>\n",
       "      <th>Pclass</th>\n",
       "      <th>Name</th>\n",
       "      <th>Sex</th>\n",
       "      <th>Age</th>\n",
       "      <th>SibSp</th>\n",
       "      <th>Parch</th>\n",
       "      <th>Ticket</th>\n",
       "      <th>Fare</th>\n",
       "      <th>Cabin</th>\n",
       "      <th>Embarked</th>\n",
       "    </tr>\n",
       "  </thead>\n",
       "  <tbody>\n",
       "    <tr>\n",
       "      <th>0</th>\n",
       "      <td>1</td>\n",
       "      <td>0</td>\n",
       "      <td>3</td>\n",
       "      <td>Braund, Mr. Owen Harris</td>\n",
       "      <td>male</td>\n",
       "      <td>22.0</td>\n",
       "      <td>1</td>\n",
       "      <td>0</td>\n",
       "      <td>A/5 21171</td>\n",
       "      <td>7.25</td>\n",
       "      <td>NaN</td>\n",
       "      <td>S</td>\n",
       "    </tr>\n",
       "    <tr>\n",
       "      <th>1</th>\n",
       "      <td>2</td>\n",
       "      <td>1</td>\n",
       "      <td>1</td>\n",
       "      <td>Cumings, Mrs. John Bradley (Florence Briggs Th...</td>\n",
       "      <td>female</td>\n",
       "      <td>38.0</td>\n",
       "      <td>1</td>\n",
       "      <td>0</td>\n",
       "      <td>PC 17599</td>\n",
       "      <td>71.28</td>\n",
       "      <td>C85</td>\n",
       "      <td>C</td>\n",
       "    </tr>\n",
       "    <tr>\n",
       "      <th>2</th>\n",
       "      <td>3</td>\n",
       "      <td>1</td>\n",
       "      <td>3</td>\n",
       "      <td>Heikkinen, Miss. Laina</td>\n",
       "      <td>female</td>\n",
       "      <td>26.0</td>\n",
       "      <td>0</td>\n",
       "      <td>0</td>\n",
       "      <td>STON/O2. 3101282</td>\n",
       "      <td>7.92</td>\n",
       "      <td>NaN</td>\n",
       "      <td>S</td>\n",
       "    </tr>\n",
       "    <tr>\n",
       "      <th>3</th>\n",
       "      <td>4</td>\n",
       "      <td>1</td>\n",
       "      <td>1</td>\n",
       "      <td>Futrelle, Mrs. Jacques Heath (Lily May Peel)</td>\n",
       "      <td>female</td>\n",
       "      <td>35.0</td>\n",
       "      <td>1</td>\n",
       "      <td>0</td>\n",
       "      <td>113803</td>\n",
       "      <td>53.10</td>\n",
       "      <td>C123</td>\n",
       "      <td>S</td>\n",
       "    </tr>\n",
       "    <tr>\n",
       "      <th>4</th>\n",
       "      <td>5</td>\n",
       "      <td>0</td>\n",
       "      <td>3</td>\n",
       "      <td>Allen, Mr. William Henry</td>\n",
       "      <td>male</td>\n",
       "      <td>35.0</td>\n",
       "      <td>0</td>\n",
       "      <td>0</td>\n",
       "      <td>373450</td>\n",
       "      <td>8.05</td>\n",
       "      <td>NaN</td>\n",
       "      <td>S</td>\n",
       "    </tr>\n",
       "  </tbody>\n",
       "</table>\n",
       "</div>"
      ],
      "text/plain": [
       "   PassengerId  Survived  Pclass  \\\n",
       "0            1         0       3   \n",
       "1            2         1       1   \n",
       "2            3         1       3   \n",
       "3            4         1       1   \n",
       "4            5         0       3   \n",
       "\n",
       "                                                Name     Sex   Age  SibSp  \\\n",
       "0                            Braund, Mr. Owen Harris    male  22.0      1   \n",
       "1  Cumings, Mrs. John Bradley (Florence Briggs Th...  female  38.0      1   \n",
       "2                             Heikkinen, Miss. Laina  female  26.0      0   \n",
       "3       Futrelle, Mrs. Jacques Heath (Lily May Peel)  female  35.0      1   \n",
       "4                           Allen, Mr. William Henry    male  35.0      0   \n",
       "\n",
       "   Parch            Ticket   Fare Cabin Embarked  \n",
       "0      0         A/5 21171   7.25   NaN        S  \n",
       "1      0          PC 17599  71.28   C85        C  \n",
       "2      0  STON/O2. 3101282   7.92   NaN        S  \n",
       "3      0            113803  53.10  C123        S  \n",
       "4      0            373450   8.05   NaN        S  "
      ]
     },
     "execution_count": 110,
     "metadata": {},
     "output_type": "execute_result"
    }
   ],
   "source": [
    "data.head()"
   ]
  },
  {
   "cell_type": "code",
   "execution_count": 111,
   "metadata": {},
   "outputs": [
    {
     "data": {
      "text/html": [
       "<div>\n",
       "<style scoped>\n",
       "    .dataframe tbody tr th:only-of-type {\n",
       "        vertical-align: middle;\n",
       "    }\n",
       "\n",
       "    .dataframe tbody tr th {\n",
       "        vertical-align: top;\n",
       "    }\n",
       "\n",
       "    .dataframe thead th {\n",
       "        text-align: right;\n",
       "    }\n",
       "</style>\n",
       "<table border=\"1\" class=\"dataframe\">\n",
       "  <thead>\n",
       "    <tr style=\"text-align: right;\">\n",
       "      <th></th>\n",
       "      <th>PassengerId</th>\n",
       "      <th>Survived</th>\n",
       "      <th>Pclass</th>\n",
       "      <th>Age</th>\n",
       "      <th>SibSp</th>\n",
       "      <th>Parch</th>\n",
       "      <th>Fare</th>\n",
       "    </tr>\n",
       "  </thead>\n",
       "  <tbody>\n",
       "    <tr>\n",
       "      <th>count</th>\n",
       "      <td>891.00</td>\n",
       "      <td>891.00</td>\n",
       "      <td>891.00</td>\n",
       "      <td>714.00</td>\n",
       "      <td>891.00</td>\n",
       "      <td>891.00</td>\n",
       "      <td>891.00</td>\n",
       "    </tr>\n",
       "    <tr>\n",
       "      <th>mean</th>\n",
       "      <td>446.00</td>\n",
       "      <td>0.38</td>\n",
       "      <td>2.31</td>\n",
       "      <td>29.70</td>\n",
       "      <td>0.52</td>\n",
       "      <td>0.38</td>\n",
       "      <td>32.20</td>\n",
       "    </tr>\n",
       "    <tr>\n",
       "      <th>std</th>\n",
       "      <td>257.35</td>\n",
       "      <td>0.49</td>\n",
       "      <td>0.84</td>\n",
       "      <td>14.53</td>\n",
       "      <td>1.10</td>\n",
       "      <td>0.81</td>\n",
       "      <td>49.69</td>\n",
       "    </tr>\n",
       "    <tr>\n",
       "      <th>min</th>\n",
       "      <td>1.00</td>\n",
       "      <td>0.00</td>\n",
       "      <td>1.00</td>\n",
       "      <td>0.42</td>\n",
       "      <td>0.00</td>\n",
       "      <td>0.00</td>\n",
       "      <td>0.00</td>\n",
       "    </tr>\n",
       "    <tr>\n",
       "      <th>25%</th>\n",
       "      <td>223.50</td>\n",
       "      <td>0.00</td>\n",
       "      <td>2.00</td>\n",
       "      <td>20.12</td>\n",
       "      <td>0.00</td>\n",
       "      <td>0.00</td>\n",
       "      <td>7.91</td>\n",
       "    </tr>\n",
       "    <tr>\n",
       "      <th>50%</th>\n",
       "      <td>446.00</td>\n",
       "      <td>0.00</td>\n",
       "      <td>3.00</td>\n",
       "      <td>28.00</td>\n",
       "      <td>0.00</td>\n",
       "      <td>0.00</td>\n",
       "      <td>14.45</td>\n",
       "    </tr>\n",
       "    <tr>\n",
       "      <th>75%</th>\n",
       "      <td>668.50</td>\n",
       "      <td>1.00</td>\n",
       "      <td>3.00</td>\n",
       "      <td>38.00</td>\n",
       "      <td>1.00</td>\n",
       "      <td>0.00</td>\n",
       "      <td>31.00</td>\n",
       "    </tr>\n",
       "    <tr>\n",
       "      <th>max</th>\n",
       "      <td>891.00</td>\n",
       "      <td>1.00</td>\n",
       "      <td>3.00</td>\n",
       "      <td>80.00</td>\n",
       "      <td>8.00</td>\n",
       "      <td>6.00</td>\n",
       "      <td>512.33</td>\n",
       "    </tr>\n",
       "  </tbody>\n",
       "</table>\n",
       "</div>"
      ],
      "text/plain": [
       "       PassengerId  Survived  Pclass     Age   SibSp   Parch    Fare\n",
       "count       891.00    891.00  891.00  714.00  891.00  891.00  891.00\n",
       "mean        446.00      0.38    2.31   29.70    0.52    0.38   32.20\n",
       "std         257.35      0.49    0.84   14.53    1.10    0.81   49.69\n",
       "min           1.00      0.00    1.00    0.42    0.00    0.00    0.00\n",
       "25%         223.50      0.00    2.00   20.12    0.00    0.00    7.91\n",
       "50%         446.00      0.00    3.00   28.00    0.00    0.00   14.45\n",
       "75%         668.50      1.00    3.00   38.00    1.00    0.00   31.00\n",
       "max         891.00      1.00    3.00   80.00    8.00    6.00  512.33"
      ]
     },
     "execution_count": 111,
     "metadata": {},
     "output_type": "execute_result"
    }
   ],
   "source": [
    "data.describe()"
   ]
  },
  {
   "cell_type": "code",
   "execution_count": 112,
   "metadata": {},
   "outputs": [],
   "source": [
    "# select target\n",
    "y = data.Survived\n",
    "\n",
    "# drop target from the data\n",
    "X = data.drop(['Survived'], axis = 1)"
   ]
  },
  {
   "cell_type": "code",
   "execution_count": 113,
   "metadata": {},
   "outputs": [],
   "source": [
    "# split data into train and test\n",
    "X_train, X_valid, y_train, y_valid = train_test_split(X, y, train_size=0.8, test_size=0.2, random_state=0)"
   ]
  },
  {
   "cell_type": "code",
   "execution_count": 114,
   "metadata": {},
   "outputs": [],
   "source": [
    "# where do we have null values?\n",
    "\n",
    "cols_with_null = [col for col in X_train.columns if X_train[col].isnull().any()]\n",
    "#print(\"null values in \", cols_with_null)"
   ]
  },
  {
   "cell_type": "markdown",
   "metadata": {},
   "source": [
    "Null values present in Age, Embarked and Cabin\n",
    "* Cabin is null if Pclass != 1 --> drop\n",
    "* Drop PassengerId, Ticket, Name --> all are non-useful columns\n",
    "* For age, just give people the median age\n",
    "* Drop Embarked (for now)"
   ]
  },
  {
   "cell_type": "code",
   "execution_count": 115,
   "metadata": {},
   "outputs": [],
   "source": [
    "# dropping relevant columns\n",
    "cols_to_drop = ['Cabin', 'PassengerId', 'Name', 'Ticket', 'Embarked']\n",
    "reduced_X_train = X_train.drop(cols_to_drop, axis = 1)\n",
    "reduced_X_valid = X_valid.drop(cols_to_drop, axis = 1)"
   ]
  },
  {
   "cell_type": "code",
   "execution_count": 116,
   "metadata": {},
   "outputs": [
    {
     "data": {
      "text/html": [
       "<div>\n",
       "<style scoped>\n",
       "    .dataframe tbody tr th:only-of-type {\n",
       "        vertical-align: middle;\n",
       "    }\n",
       "\n",
       "    .dataframe tbody tr th {\n",
       "        vertical-align: top;\n",
       "    }\n",
       "\n",
       "    .dataframe thead th {\n",
       "        text-align: right;\n",
       "    }\n",
       "</style>\n",
       "<table border=\"1\" class=\"dataframe\">\n",
       "  <thead>\n",
       "    <tr style=\"text-align: right;\">\n",
       "      <th></th>\n",
       "      <th>Pclass</th>\n",
       "      <th>Age</th>\n",
       "      <th>SibSp</th>\n",
       "      <th>Parch</th>\n",
       "      <th>Fare</th>\n",
       "      <th>Male</th>\n",
       "      <th>Female</th>\n",
       "    </tr>\n",
       "  </thead>\n",
       "  <tbody>\n",
       "    <tr>\n",
       "      <th>140</th>\n",
       "      <td>3</td>\n",
       "      <td>NaN</td>\n",
       "      <td>0</td>\n",
       "      <td>2</td>\n",
       "      <td>15.25</td>\n",
       "      <td>1</td>\n",
       "      <td>0</td>\n",
       "    </tr>\n",
       "    <tr>\n",
       "      <th>439</th>\n",
       "      <td>2</td>\n",
       "      <td>31.0</td>\n",
       "      <td>0</td>\n",
       "      <td>0</td>\n",
       "      <td>10.50</td>\n",
       "      <td>0</td>\n",
       "      <td>1</td>\n",
       "    </tr>\n",
       "    <tr>\n",
       "      <th>817</th>\n",
       "      <td>2</td>\n",
       "      <td>31.0</td>\n",
       "      <td>1</td>\n",
       "      <td>1</td>\n",
       "      <td>37.00</td>\n",
       "      <td>0</td>\n",
       "      <td>1</td>\n",
       "    </tr>\n",
       "    <tr>\n",
       "      <th>378</th>\n",
       "      <td>3</td>\n",
       "      <td>20.0</td>\n",
       "      <td>0</td>\n",
       "      <td>0</td>\n",
       "      <td>4.01</td>\n",
       "      <td>0</td>\n",
       "      <td>1</td>\n",
       "    </tr>\n",
       "    <tr>\n",
       "      <th>491</th>\n",
       "      <td>3</td>\n",
       "      <td>21.0</td>\n",
       "      <td>0</td>\n",
       "      <td>0</td>\n",
       "      <td>7.25</td>\n",
       "      <td>0</td>\n",
       "      <td>1</td>\n",
       "    </tr>\n",
       "  </tbody>\n",
       "</table>\n",
       "</div>"
      ],
      "text/plain": [
       "     Pclass   Age  SibSp  Parch   Fare  Male  Female\n",
       "140       3   NaN      0      2  15.25     1       0\n",
       "439       2  31.0      0      0  10.50     0       1\n",
       "817       2  31.0      1      1  37.00     0       1\n",
       "378       3  20.0      0      0   4.01     0       1\n",
       "491       3  21.0      0      0   7.25     0       1"
      ]
     },
     "execution_count": 116,
     "metadata": {},
     "output_type": "execute_result"
    }
   ],
   "source": [
    "# # ONE-HOT ENCODING\n",
    "\n",
    "encoder = OneHotEncoder(sparse = False)\n",
    "\n",
    "label_X_train = reduced_X_train.copy()\n",
    "label_X_valid = reduced_X_valid.copy()\n",
    "\n",
    "# train onehot encoder to the data\n",
    "train_encoded = pd.DataFrame(encoder.fit_transform(np.asarray(label_X_train['Sex']).reshape(-1, 1)), dtype = int)\n",
    "valid_encoded = pd.DataFrame(encoder.transform(np.asarray(label_X_valid['Sex']).reshape(-1, 1)), dtype = int)\n",
    "\n",
    "train_encoded.index = label_X_train.index\n",
    "valid_encoded.index = label_X_valid.index\n",
    "\n",
    "# remove the sex column from label_X_train and add back columns for Male and Female\n",
    "num_X_train = label_X_train.drop(['Sex'], axis = 1)\n",
    "num_X_valid = label_X_valid.drop(['Sex'], axis = 1)\n",
    "\n",
    "encoded_X_train = pd.concat([num_X_train, train_encoded], axis = 1)\n",
    "encoded_X_train = encoded_X_train.rename(columns = {0 : 'Male', 1 : 'Female'})\n",
    "\n",
    "encoded_X_valid = pd.concat([num_X_valid, valid_encoded], axis = 1)\n",
    "encoded_X_valid = encoded_X_valid.rename(columns = {0 : 'Male', 1 : 'Female'})\n",
    "encoded_X_train.head()\n"
   ]
  },
  {
   "cell_type": "code",
   "execution_count": 117,
   "metadata": {},
   "outputs": [],
   "source": [
    "final_X_train = encoded_X_train.copy()\n",
    "final_X_valid = encoded_X_valid.copy()\n",
    "\n",
    "# replace values in the age column with median age\n",
    "final_X_train['Age'] = encoded_X_train['Age'].fillna(encoded_X_train['Age'].median())\n",
    "final_X_valid['Age'] = encoded_X_valid['Age'].fillna(encoded_X_valid['Age'].median())"
   ]
  },
  {
   "cell_type": "code",
   "execution_count": 118,
   "metadata": {},
   "outputs": [],
   "source": [
    "# delete all variables that aren't useful anymore\n",
    "del(label_X_train, label_X_valid, reduced_X_train, reduced_X_valid, \\\n",
    "    cols_with_null, cols_to_drop, train_encoded, valid_encoded, \\\n",
    "   num_X_train, num_X_valid, encoded_X_train, encoded_X_valid)"
   ]
  },
  {
   "cell_type": "code",
   "execution_count": 119,
   "metadata": {},
   "outputs": [
    {
     "data": {
      "text/html": [
       "<div>\n",
       "<style scoped>\n",
       "    .dataframe tbody tr th:only-of-type {\n",
       "        vertical-align: middle;\n",
       "    }\n",
       "\n",
       "    .dataframe tbody tr th {\n",
       "        vertical-align: top;\n",
       "    }\n",
       "\n",
       "    .dataframe thead th {\n",
       "        text-align: right;\n",
       "    }\n",
       "</style>\n",
       "<table border=\"1\" class=\"dataframe\">\n",
       "  <thead>\n",
       "    <tr style=\"text-align: right;\">\n",
       "      <th></th>\n",
       "      <th>Pclass</th>\n",
       "      <th>Age</th>\n",
       "      <th>SibSp</th>\n",
       "      <th>Parch</th>\n",
       "      <th>Fare</th>\n",
       "      <th>Male</th>\n",
       "      <th>Female</th>\n",
       "    </tr>\n",
       "  </thead>\n",
       "  <tbody>\n",
       "    <tr>\n",
       "      <th>140</th>\n",
       "      <td>3</td>\n",
       "      <td>29.0</td>\n",
       "      <td>0</td>\n",
       "      <td>2</td>\n",
       "      <td>15.25</td>\n",
       "      <td>1</td>\n",
       "      <td>0</td>\n",
       "    </tr>\n",
       "    <tr>\n",
       "      <th>439</th>\n",
       "      <td>2</td>\n",
       "      <td>31.0</td>\n",
       "      <td>0</td>\n",
       "      <td>0</td>\n",
       "      <td>10.50</td>\n",
       "      <td>0</td>\n",
       "      <td>1</td>\n",
       "    </tr>\n",
       "    <tr>\n",
       "      <th>817</th>\n",
       "      <td>2</td>\n",
       "      <td>31.0</td>\n",
       "      <td>1</td>\n",
       "      <td>1</td>\n",
       "      <td>37.00</td>\n",
       "      <td>0</td>\n",
       "      <td>1</td>\n",
       "    </tr>\n",
       "    <tr>\n",
       "      <th>378</th>\n",
       "      <td>3</td>\n",
       "      <td>20.0</td>\n",
       "      <td>0</td>\n",
       "      <td>0</td>\n",
       "      <td>4.01</td>\n",
       "      <td>0</td>\n",
       "      <td>1</td>\n",
       "    </tr>\n",
       "    <tr>\n",
       "      <th>491</th>\n",
       "      <td>3</td>\n",
       "      <td>21.0</td>\n",
       "      <td>0</td>\n",
       "      <td>0</td>\n",
       "      <td>7.25</td>\n",
       "      <td>0</td>\n",
       "      <td>1</td>\n",
       "    </tr>\n",
       "  </tbody>\n",
       "</table>\n",
       "</div>"
      ],
      "text/plain": [
       "     Pclass   Age  SibSp  Parch   Fare  Male  Female\n",
       "140       3  29.0      0      2  15.25     1       0\n",
       "439       2  31.0      0      0  10.50     0       1\n",
       "817       2  31.0      1      1  37.00     0       1\n",
       "378       3  20.0      0      0   4.01     0       1\n",
       "491       3  21.0      0      0   7.25     0       1"
      ]
     },
     "execution_count": 119,
     "metadata": {},
     "output_type": "execute_result"
    }
   ],
   "source": [
    "final_X_train.head()"
   ]
  },
  {
   "cell_type": "markdown",
   "metadata": {},
   "source": [
    "## Bayesian Optimisation of a xgBoost method\n",
    "\n",
    "This uses a library to carry out Bayesian optimisation to progressively improve an xgBoost method"
   ]
  },
  {
   "cell_type": "code",
   "execution_count": 120,
   "metadata": {},
   "outputs": [
    {
     "name": "stderr",
     "output_type": "stream",
     "text": [
      "C:\\Users\\mgmf4\\anaconda3\\envs\\ml\\lib\\site-packages\\xgboost\\data.py:262: FutureWarning: pandas.Int64Index is deprecated and will be removed from pandas in a future version. Use pandas.Index with the appropriate dtype instead.\n",
      "  elif isinstance(data.columns, (pd.Int64Index, pd.RangeIndex)):\n"
     ]
    }
   ],
   "source": [
    "from xgboost import XGBClassifier\n",
    "\n",
    "# setting up a default classifier\n",
    "\n",
    "classifier1 = XGBClassifier(use_label_encoder=False,eval_metric='logloss').fit(final_X_train, y_train)\n",
    "\n",
    "# making predictions using that default classifier\n",
    "\n",
    "default_predictions = classifier1.predict(final_X_valid)"
   ]
  },
  {
   "cell_type": "code",
   "execution_count": 121,
   "metadata": {},
   "outputs": [
    {
     "name": "stdout",
     "output_type": "stream",
     "text": [
      "accuracy with default =  0.8324022346368715\n"
     ]
    }
   ],
   "source": [
    "from sklearn.metrics import confusion_matrix\n",
    "\n",
    "cm = confusion_matrix(default_predictions, y_valid)\n",
    "acc = cm.diagonal().sum()/cm.sum()\n",
    "print(\"accuracy with default = \", acc)"
   ]
  },
  {
   "cell_type": "code",
   "execution_count": 122,
   "metadata": {},
   "outputs": [],
   "source": [
    "from bayes_opt import BayesianOptimization\n",
    "import xgboost as xgb\n",
    "from sklearn.metrics import f1_score"
   ]
  },
  {
   "cell_type": "code",
   "execution_count": 123,
   "metadata": {},
   "outputs": [],
   "source": [
    "# convert data to a matrix to use with xgb \n",
    "def func_to_tune(max_depth, n_estimators, learning_rate):\n",
    "    params = {'max_depth': int(max_depth),\n",
    "                'n_estimators': int(n_estimators),\n",
    "                'learning_rate': learning_rate}\n",
    "    trained_model = XGBClassifier(learning_rate=params['learning_rate'], \\\n",
    "        max_depth=params['max_depth'], \\\n",
    "            n_estimators=params['n_estimators'], use_label_encoder=False, objective='binary:logistic', \\\n",
    "                eval_metric='logloss', \\\n",
    "                    verbose=0, silent=True).fit(final_X_train, y_train)\n",
    "    predictions = trained_model.predict(final_X_valid)\n",
    "    score = f1_score(y_valid, predictions)\n",
    "    return score"
   ]
  },
  {
   "cell_type": "code",
   "execution_count": 124,
   "metadata": {},
   "outputs": [],
   "source": [
    "import optuna"
   ]
  },
  {
   "cell_type": "code",
   "execution_count": 125,
   "metadata": {},
   "outputs": [],
   "source": [
    "def objective(trial):\n",
    "    rf_max_depth = trial.suggest_int('max_depth', 3, 10)\n",
    "    rf_n_estimators = trial.suggest_int('n_estimators', 50, 150)\n",
    "    classifier_obj = RandomForestClassifier(\n",
    "                                   max_depth=rf_max_depth, \n",
    "                                   n_estimators=rf_n_estimators).fit(final_X_train, y_train)\n",
    "    predictions = classifier_obj.predict(final_X_valid)\n",
    "    score = f1_score(y_valid, predictions)\n",
    "    return score \n",
    "    "
   ]
  },
  {
   "cell_type": "code",
   "execution_count": 126,
   "metadata": {},
   "outputs": [
    {
     "name": "stderr",
     "output_type": "stream",
     "text": [
      "\u001b[32m[I 2022-03-19 15:49:58,081]\u001b[0m A new study created in memory with name: no-name-5772a3e4-826a-42f2-a1c8-e954c7082a8e\u001b[0m\n",
      "\u001b[32m[I 2022-03-19 15:49:58,326]\u001b[0m Trial 0 finished with value: 0.7559055118110236 and parameters: {'max_depth': 6, 'n_estimators': 115}. Best is trial 0 with value: 0.7559055118110236.\u001b[0m\n",
      "\u001b[32m[I 2022-03-19 15:49:58,567]\u001b[0m Trial 1 finished with value: 0.7906976744186046 and parameters: {'max_depth': 10, 'n_estimators': 112}. Best is trial 1 with value: 0.7906976744186046.\u001b[0m\n",
      "\u001b[32m[I 2022-03-19 15:49:58,796]\u001b[0m Trial 2 finished with value: 0.7596899224806202 and parameters: {'max_depth': 6, 'n_estimators': 122}. Best is trial 1 with value: 0.7906976744186046.\u001b[0m\n",
      "\u001b[32m[I 2022-03-19 15:49:58,932]\u001b[0m Trial 3 finished with value: 0.8 and parameters: {'max_depth': 10, 'n_estimators': 70}. Best is trial 3 with value: 0.8.\u001b[0m\n",
      "\u001b[32m[I 2022-03-19 15:49:59,105]\u001b[0m Trial 4 finished with value: 0.7596899224806202 and parameters: {'max_depth': 5, 'n_estimators': 91}. Best is trial 3 with value: 0.8.\u001b[0m\n",
      "\u001b[32m[I 2022-03-19 15:49:59,327]\u001b[0m Trial 5 finished with value: 0.7938931297709925 and parameters: {'max_depth': 10, 'n_estimators': 101}. Best is trial 3 with value: 0.8.\u001b[0m\n",
      "\u001b[32m[I 2022-03-19 15:49:59,570]\u001b[0m Trial 6 finished with value: 0.7874015748031497 and parameters: {'max_depth': 8, 'n_estimators': 134}. Best is trial 3 with value: 0.8.\u001b[0m\n",
      "\u001b[32m[I 2022-03-19 15:49:59,744]\u001b[0m Trial 7 finished with value: 0.7656250000000001 and parameters: {'max_depth': 6, 'n_estimators': 89}. Best is trial 3 with value: 0.8.\u001b[0m\n",
      "\u001b[32m[I 2022-03-19 15:49:59,903]\u001b[0m Trial 8 finished with value: 0.75 and parameters: {'max_depth': 5, 'n_estimators': 85}. Best is trial 3 with value: 0.8.\u001b[0m\n",
      "\u001b[32m[I 2022-03-19 15:50:00,127]\u001b[0m Trial 9 finished with value: 0.7874015748031497 and parameters: {'max_depth': 8, 'n_estimators': 122}. Best is trial 3 with value: 0.8.\u001b[0m\n"
     ]
    }
   ],
   "source": [
    "study = optuna.create_study(direction=\"maximize\")\n",
    "study.optimize(objective, n_trials=10)"
   ]
  },
  {
   "cell_type": "code",
   "execution_count": 132,
   "metadata": {},
   "outputs": [
    {
     "ename": "ImportError",
     "evalue": "Tried to import 'plotly' but failed. Please make sure that the package is installed correctly to use this feature. Actual error: No module named 'plotly'.",
     "output_type": "error",
     "traceback": [
      "\u001b[1;31m---------------------------------------------------------------------------\u001b[0m",
      "\u001b[1;31mModuleNotFoundError\u001b[0m                       Traceback (most recent call last)",
      "File \u001b[1;32m~\\anaconda3\\envs\\ml\\lib\\site-packages\\optuna\\visualization\\_plotly_imports.py:7\u001b[0m, in \u001b[0;36m<module>\u001b[1;34m\u001b[0m\n\u001b[0;32m      <a href='file:///c%3A/Users/mgmf4/anaconda3/envs/ml/lib/site-packages/optuna/visualization/_plotly_imports.py?line=5'>6</a>\u001b[0m \u001b[39mwith\u001b[39;00m try_import() \u001b[39mas\u001b[39;00m _imports:  \u001b[39m# NOQA\u001b[39;00m\n\u001b[1;32m----> <a href='file:///c%3A/Users/mgmf4/anaconda3/envs/ml/lib/site-packages/optuna/visualization/_plotly_imports.py?line=6'>7</a>\u001b[0m     \u001b[39mimport\u001b[39;00m \u001b[39mplotly\u001b[39;00m  \u001b[39m# NOQA\u001b[39;00m\n\u001b[0;32m      <a href='file:///c%3A/Users/mgmf4/anaconda3/envs/ml/lib/site-packages/optuna/visualization/_plotly_imports.py?line=7'>8</a>\u001b[0m     \u001b[39mfrom\u001b[39;00m \u001b[39mplotly\u001b[39;00m \u001b[39mimport\u001b[39;00m __version__ \u001b[39mas\u001b[39;00m plotly_version\n",
      "\u001b[1;31mModuleNotFoundError\u001b[0m: No module named 'plotly'",
      "\nThe above exception was the direct cause of the following exception:\n",
      "\u001b[1;31mImportError\u001b[0m                               Traceback (most recent call last)",
      "\u001b[1;32mc:\\Users\\mgmf4\\OneDrive - Imperial College London\\kaggle\\titanic\\titanic_bayesian_rfxg.ipynb Cell 24'\u001b[0m in \u001b[0;36m<cell line: 3>\u001b[1;34m()\u001b[0m\n\u001b[0;32m      <a href='vscode-notebook-cell:/c%3A/Users/mgmf4/OneDrive%20-%20Imperial%20College%20London/kaggle/titanic/titanic_bayesian_rfxg.ipynb#ch0000045?line=0'>1</a>\u001b[0m \u001b[39mimport\u001b[39;00m \u001b[39mplotly\u001b[39;00m\n\u001b[0;32m      <a href='vscode-notebook-cell:/c%3A/Users/mgmf4/OneDrive%20-%20Imperial%20College%20London/kaggle/titanic/titanic_bayesian_rfxg.ipynb#ch0000045?line=1'>2</a>\u001b[0m \u001b[39mfrom\u001b[39;00m \u001b[39moptuna\u001b[39;00m\u001b[39m.\u001b[39;00m\u001b[39mvisualization\u001b[39;00m \u001b[39mimport\u001b[39;00m plot_optimization_history\n\u001b[1;32m----> <a href='vscode-notebook-cell:/c%3A/Users/mgmf4/OneDrive%20-%20Imperial%20College%20London/kaggle/titanic/titanic_bayesian_rfxg.ipynb#ch0000045?line=2'>3</a>\u001b[0m plot_optimization_history(study)\n",
      "File \u001b[1;32m~\\anaconda3\\envs\\ml\\lib\\site-packages\\optuna\\visualization\\_optimization_history.py:73\u001b[0m, in \u001b[0;36mplot_optimization_history\u001b[1;34m(study, target, target_name)\u001b[0m\n\u001b[0;32m     <a href='file:///c%3A/Users/mgmf4/anaconda3/envs/ml/lib/site-packages/optuna/visualization/_optimization_history.py?line=21'>22</a>\u001b[0m \u001b[39mdef\u001b[39;00m \u001b[39mplot_optimization_history\u001b[39m(\n\u001b[0;32m     <a href='file:///c%3A/Users/mgmf4/anaconda3/envs/ml/lib/site-packages/optuna/visualization/_optimization_history.py?line=22'>23</a>\u001b[0m     study: Study,\n\u001b[0;32m     <a href='file:///c%3A/Users/mgmf4/anaconda3/envs/ml/lib/site-packages/optuna/visualization/_optimization_history.py?line=23'>24</a>\u001b[0m     \u001b[39m*\u001b[39m,\n\u001b[0;32m     <a href='file:///c%3A/Users/mgmf4/anaconda3/envs/ml/lib/site-packages/optuna/visualization/_optimization_history.py?line=24'>25</a>\u001b[0m     target: Optional[Callable[[FrozenTrial], \u001b[39mfloat\u001b[39m]] \u001b[39m=\u001b[39m \u001b[39mNone\u001b[39;00m,\n\u001b[0;32m     <a href='file:///c%3A/Users/mgmf4/anaconda3/envs/ml/lib/site-packages/optuna/visualization/_optimization_history.py?line=25'>26</a>\u001b[0m     target_name: \u001b[39mstr\u001b[39m \u001b[39m=\u001b[39m \u001b[39m\"\u001b[39m\u001b[39mObjective Value\u001b[39m\u001b[39m\"\u001b[39m,\n\u001b[0;32m     <a href='file:///c%3A/Users/mgmf4/anaconda3/envs/ml/lib/site-packages/optuna/visualization/_optimization_history.py?line=26'>27</a>\u001b[0m ) \u001b[39m-\u001b[39m\u001b[39m>\u001b[39m \u001b[39m\"\u001b[39m\u001b[39mgo.Figure\u001b[39m\u001b[39m\"\u001b[39m:\n\u001b[0;32m     <a href='file:///c%3A/Users/mgmf4/anaconda3/envs/ml/lib/site-packages/optuna/visualization/_optimization_history.py?line=27'>28</a>\u001b[0m     \u001b[39m\"\"\"Plot optimization history of all trials in a study.\u001b[39;00m\n\u001b[0;32m     <a href='file:///c%3A/Users/mgmf4/anaconda3/envs/ml/lib/site-packages/optuna/visualization/_optimization_history.py?line=28'>29</a>\u001b[0m \n\u001b[0;32m     <a href='file:///c%3A/Users/mgmf4/anaconda3/envs/ml/lib/site-packages/optuna/visualization/_optimization_history.py?line=29'>30</a>\u001b[0m \u001b[39m    Example:\u001b[39;00m\n\u001b[1;32m   (...)\u001b[0m\n\u001b[0;32m     <a href='file:///c%3A/Users/mgmf4/anaconda3/envs/ml/lib/site-packages/optuna/visualization/_optimization_history.py?line=69'>70</a>\u001b[0m \u001b[39m            optimization.\u001b[39;00m\n\u001b[0;32m     <a href='file:///c%3A/Users/mgmf4/anaconda3/envs/ml/lib/site-packages/optuna/visualization/_optimization_history.py?line=70'>71</a>\u001b[0m \u001b[39m    \"\"\"\u001b[39;00m\n\u001b[1;32m---> <a href='file:///c%3A/Users/mgmf4/anaconda3/envs/ml/lib/site-packages/optuna/visualization/_optimization_history.py?line=72'>73</a>\u001b[0m     _imports\u001b[39m.\u001b[39;49mcheck()\n\u001b[0;32m     <a href='file:///c%3A/Users/mgmf4/anaconda3/envs/ml/lib/site-packages/optuna/visualization/_optimization_history.py?line=73'>74</a>\u001b[0m     _check_plot_args(study, target, target_name)\n\u001b[0;32m     <a href='file:///c%3A/Users/mgmf4/anaconda3/envs/ml/lib/site-packages/optuna/visualization/_optimization_history.py?line=74'>75</a>\u001b[0m     \u001b[39mreturn\u001b[39;00m _get_optimization_history_plot(study, target, target_name)\n",
      "File \u001b[1;32m~\\anaconda3\\envs\\ml\\lib\\site-packages\\optuna\\_imports.py:86\u001b[0m, in \u001b[0;36m_DeferredImportExceptionContextManager.check\u001b[1;34m(self)\u001b[0m\n\u001b[0;32m     <a href='file:///c%3A/Users/mgmf4/anaconda3/envs/ml/lib/site-packages/optuna/_imports.py?line=83'>84</a>\u001b[0m \u001b[39mif\u001b[39;00m \u001b[39mself\u001b[39m\u001b[39m.\u001b[39m_deferred \u001b[39mis\u001b[39;00m \u001b[39mnot\u001b[39;00m \u001b[39mNone\u001b[39;00m:\n\u001b[0;32m     <a href='file:///c%3A/Users/mgmf4/anaconda3/envs/ml/lib/site-packages/optuna/_imports.py?line=84'>85</a>\u001b[0m     exc_value, message \u001b[39m=\u001b[39m \u001b[39mself\u001b[39m\u001b[39m.\u001b[39m_deferred\n\u001b[1;32m---> <a href='file:///c%3A/Users/mgmf4/anaconda3/envs/ml/lib/site-packages/optuna/_imports.py?line=85'>86</a>\u001b[0m     \u001b[39mraise\u001b[39;00m \u001b[39mImportError\u001b[39;00m(message) \u001b[39mfrom\u001b[39;00m \u001b[39mexc_value\u001b[39;00m\n",
      "\u001b[1;31mImportError\u001b[0m: Tried to import 'plotly' but failed. Please make sure that the package is installed correctly to use this feature. Actual error: No module named 'plotly'."
     ]
    }
   ],
   "source": [
    "import plotly\n",
    "from optuna.visualization import plot_optimization_history\n",
    "plot_optimization_history(study)"
   ]
  }
 ],
 "metadata": {
  "kernelspec": {
   "display_name": "Python 3 (ipykernel)",
   "language": "python",
   "name": "python3"
  },
  "language_info": {
   "codemirror_mode": {
    "name": "ipython",
    "version": 3
   },
   "file_extension": ".py",
   "mimetype": "text/x-python",
   "name": "python",
   "nbconvert_exporter": "python",
   "pygments_lexer": "ipython3",
   "version": "3.9.10"
  }
 },
 "nbformat": 4,
 "nbformat_minor": 4
}
